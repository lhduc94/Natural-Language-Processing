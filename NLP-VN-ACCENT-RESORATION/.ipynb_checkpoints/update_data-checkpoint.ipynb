{
 "cells": [
  {
   "cell_type": "code",
   "execution_count": 1,
   "metadata": {
    "collapsed": true
   },
   "outputs": [],
   "source": [
    "import numpy as np\n",
    "from collections import Counter\n",
    "from time import time"
   ]
  },
  {
   "cell_type": "code",
   "execution_count": 4,
   "metadata": {
    "collapsed": true
   },
   "outputs": [],
   "source": [
    "def loaddata():\n",
    "    start = time()\n",
    "    _1gram = np.load('1gram.npy').item()\n",
    "    print len(_1gram)\n",
    "    print time() - start\n",
    "    # print read_dictionary\n",
    "    start = time()\n",
    "    _2gram = np.load('2gram.npy').item()\n",
    "    print len(_2gram)\n",
    "    print time() - start\n",
    "    start = time()\n",
    "    _1statistic = np.load('1statistic.npy').item()\n",
    "    print len(_1statistic)\n",
    "    print time() - start\n",
    "    start = time()\n",
    "    statistic = np.load('statistic.npy').item()\n",
    "    # print read_dictionary4\n",
    "    print time() - start\n",
    "    return (_1gram, _2gram, _1statistic, statistic)"
   ]
  },
  {
   "cell_type": "code",
   "execution_count": 5,
   "metadata": {},
   "outputs": [
    {
     "name": "stdout",
     "output_type": "stream",
     "text": [
      "216396\n",
      "0.126158952713\n",
      "5553694\n",
      "5.62706685066\n",
      "216445\n",
      "0.14625287056\n",
      "0.00993418693542\n"
     ]
    }
   ],
   "source": [
    "(_1gram, _2gram, _1statistic, statistic) = loaddata()"
   ]
  },
  {
   "cell_type": "code",
   "execution_count": null,
   "metadata": {
    "collapsed": true
   },
   "outputs": [],
   "source": []
  },
  {
   "cell_type": "code",
   "execution_count": 11,
   "metadata": {},
   "outputs": [
    {
     "name": "stdout",
     "output_type": "stream",
     "text": [
      "a\n"
     ]
    },
    {
     "data": {
      "text/html": [
       "<div>\n",
       "<style>\n",
       "    .dataframe thead tr:only-child th {\n",
       "        text-align: right;\n",
       "    }\n",
       "\n",
       "    .dataframe thead th {\n",
       "        text-align: left;\n",
       "    }\n",
       "\n",
       "    .dataframe tbody tr th {\n",
       "        vertical-align: top;\n",
       "    }\n",
       "</style>\n",
       "<table border=\"1\" class=\"dataframe\">\n",
       "  <thead>\n",
       "    <tr style=\"text-align: right;\">\n",
       "      <th></th>\n",
       "      <th>id</th>\n",
       "      <th>tilte</th>\n",
       "      <th>description</th>\n",
       "    </tr>\n",
       "  </thead>\n",
       "  <tbody>\n",
       "    <tr>\n",
       "      <th>0</th>\n",
       "      <td>100000008</td>\n",
       "      <td>cô dâu 15 tuổi (my little bride)</td>\n",
       "      <td>sang min là dân mỹ thuật, tính đào hoa thích t...</td>\n",
       "    </tr>\n",
       "    <tr>\n",
       "      <th>1</th>\n",
       "      <td>100000019</td>\n",
       "      <td>thất đại tội (24 tập) (the seven deadly sins)</td>\n",
       "      <td>24 tập phim theo chân elizabeth, công chúa thứ...</td>\n",
       "    </tr>\n",
       "    <tr>\n",
       "      <th>2</th>\n",
       "      <td>100000026</td>\n",
       "      <td>cô gái ngoài hành tinh (13 tập) (brynhildr in ...</td>\n",
       "      <td>murakami luôn bị ám ảnh vì đã để người bạn thu...</td>\n",
       "    </tr>\n",
       "    <tr>\n",
       "      <th>3</th>\n",
       "      <td>100000031</td>\n",
       "      <td>10 phần yêu (love is not all around)</td>\n",
       "      <td>dù là cô nàng \"sát giai\", có nhiều mánh lới \"d...</td>\n",
       "    </tr>\n",
       "    <tr>\n",
       "      <th>4</th>\n",
       "      <td>100000042</td>\n",
       "      <td>lớp học ám sát (phần 2) (assassination classro...</td>\n",
       "      <td>các học sinh lớp 3e-1 bước vào học kỳ thứ hai....</td>\n",
       "    </tr>\n",
       "  </tbody>\n",
       "</table>\n",
       "</div>"
      ],
      "text/plain": [
       "          id                                              tilte  \\\n",
       "0  100000008                   cô dâu 15 tuổi (my little bride)   \n",
       "1  100000019      thất đại tội (24 tập) (the seven deadly sins)   \n",
       "2  100000026  cô gái ngoài hành tinh (13 tập) (brynhildr in ...   \n",
       "3  100000031               10 phần yêu (love is not all around)   \n",
       "4  100000042  lớp học ám sát (phần 2) (assassination classro...   \n",
       "\n",
       "                                         description  \n",
       "0  sang min là dân mỹ thuật, tính đào hoa thích t...  \n",
       "1  24 tập phim theo chân elizabeth, công chúa thứ...  \n",
       "2  murakami luôn bị ám ảnh vì đã để người bạn thu...  \n",
       "3  dù là cô nàng \"sát giai\", có nhiều mánh lới \"d...  \n",
       "4  các học sinh lớp 3e-1 bước vào học kỳ thứ hai....  "
      ]
     },
     "execution_count": 11,
     "metadata": {},
     "output_type": "execute_result"
    }
   ],
   "source": [
    "import pandas as pd\n",
    "df = pd.read_csv('datasets/dataNLP.csv',header=None,names=[\"id\",\"tilte\",\"description\"])\n",
    "print 'a'\n",
    "df.head()"
   ]
  },
  {
   "cell_type": "code",
   "execution_count": null,
   "metadata": {
    "collapsed": true
   },
   "outputs": [],
   "source": [
    "from nltk import ngrams\n",
    "\n",
    "def gen_ngram(string, n=1):\n",
    "    gram_str = list(ngrams(string.split(), n))\n",
    "    return [ \" \".join(gram).lower() for gram in gram_str ]\n",
    "\n",
    "df[\"1gram\"] = df.row.apply(lambda t: gen_ngram(t, 1))\n",
    "df[\"2gram\"] = df.row.apply(lambda t: gen_ngram(t, 2))\n"
   ]
  }
 ],
 "metadata": {
  "kernelspec": {
   "display_name": "Python 2",
   "language": "python",
   "name": "python2"
  },
  "language_info": {
   "codemirror_mode": {
    "name": "ipython",
    "version": 2
   },
   "file_extension": ".py",
   "mimetype": "text/x-python",
   "name": "python",
   "nbconvert_exporter": "python",
   "pygments_lexer": "ipython2",
   "version": "2.7.14"
  }
 },
 "nbformat": 4,
 "nbformat_minor": 2
}
